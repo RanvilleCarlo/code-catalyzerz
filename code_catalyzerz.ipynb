{
 "cells": [
  {
   "cell_type": "code",
   "execution_count": null,
   "metadata": {},
   "outputs": [],
   "source": [
    "from google.colab import drive\n",
    "drive.mount('/content/drive')\n"
   ]
  },
  {
   "cell_type": "code",
   "execution_count": null,
   "metadata": {},
   "outputs": [],
   "source": [
    "import numpy as np \n",
    "import pandas as pd \n",
    "import matplotlib.pyplot as plt\n",
    "import seaborn as sns\n",
    "import plotly.express as px\n",
    "import plotly.graph_objects as go\n",
    "from sklearn.model_selection import train_test_split\n",
    "from sklearn.impute import SimpleImputer\n",
    "from sklearn.preprocessing import LabelEncoder\n",
    "from sklearn.ensemble import RandomForestRegressor "
   ]
  },
  {
   "cell_type": "code",
   "execution_count": null,
   "metadata": {},
   "outputs": [],
   "source": [
    "df=pd.read_csv('/content/drive/MyDrive/medicin_csv/medicine.csv')"
   ]
  },
  {
   "cell_type": "code",
   "execution_count": null,
   "metadata": {},
   "outputs": [],
   "source": [
    "df.info()\n"
   ]
  },
  {
   "cell_type": "code",
   "execution_count": null,
   "metadata": {},
   "outputs": [],
   "source": [
    "columns_to_drop = ['drug_interactions']\n",
    "df = df.drop(columns_to_drop, axis=1)"
   ]
  },
  {
   "cell_type": "code",
   "execution_count": null,
   "metadata": {},
   "outputs": [],
   "source": [
    "import pandas as pd\n",
    "import tensorflow as tf\n",
    "from scipy.sparse import csr_matrix\n",
    "from tensorflow.keras.callbacks import ModelCheckpoint\n",
    "from sklearn.feature_extraction.text import TfidfVectorizer\n",
    "from tensorflow.keras.models import Model\n",
    "from tensorflow.keras.layers import Input, Dense\n",
    "from sklearn.metrics.pairwise import cosine_similarity"
   ]
  },
  {
   "cell_type": "code",
   "execution_count": null,
   "metadata": {},
   "outputs": [],
   "source": [
    "df['combined_features'] = df['medicine_desc'] + ' ' + df['salt_composition']\n",
    "\n",
    "\n",
    "tfidf_vectorizer = TfidfVectorizer()\n",
    "tfidf_matrix = tfidf_vectorizer.fit_transform(df['combined_features'])\n",
    "\n",
    "\n",
    "train_df, test_df = train_test_split(df, test_size=0.2, random_state=42, shuffle=True)\n",
    "train_df, val_df = train_test_split(train_df, test_size=0.1, random_state=42, shuffle=True)\n",
    "\n",
    "\n",
    "train_matrix = csr_matrix.toarray(tfidf_vectorizer.transform(train_df['combined_features']))\n",
    "val_matrix = csr_matrix.toarray(tfidf_vectorizer.transform(val_df['combined_features']))\n",
    "\n",
    "input_layer = Input(shape=(tfidf_matrix.shape[1],))\n",
    "embedding_layer = Dense(64, activation='relu')(input_layer)\n",
    "output_layer = Dense(64)(embedding_layer)\n",
    "\n",
    "model = Model(inputs=input_layer, outputs=output_layer)\n",
    "model.compile(optimizer='adam', loss='mean_squared_error')\n",
    "\n",
    "checkpoint = ModelCheckpoint('model_weights.h5', save_best_only=True)\n",
    "\n"
   ]
  },
  {
   "cell_type": "code",
   "execution_count": null,
   "metadata": {},
   "outputs": [],
   "source": [
    "\n",
    "model.fit(train_matrix, train_matrix, epochs=10, batch_size=16, validation_data=(val_matrix, val_matrix), callbacks=[checkpoint])\n"
   ]
  },
  {
   "cell_type": "code",
   "execution_count": null,
   "metadata": {},
   "outputs": [],
   "source": [
    "train_matrix = tfidf_vectorizer.transform(train_df['combined_features'])\n",
    "model.fit(train_matrix, train_matrix, epochs=10, batch_size=16, validation_split=0.1)"
   ]
  },
  {
   "cell_type": "code",
   "execution_count": null,
   "metadata": {},
   "outputs": [],
   "source": [
    "val_matrix = tfidf_vectorizer.transform(val_df['combined_features'])\n",
    "loss = model.evaluate(val_matrix, val_matrix)\n",
    "print(f\"Validation Loss: {loss}\")"
   ]
  },
  {
   "cell_type": "code",
   "execution_count": null,
   "metadata": {},
   "outputs": [],
   "source": [
    "model.summary()"
   ]
  },
  {
   "cell_type": "code",
   "execution_count": null,
   "metadata": {},
   "outputs": [],
   "source": [
    "def find_similar_medicines(query_name, top_n=10, similarity_threshold=0.9):\n",
    "    # Retrieve the features for the given medicine\n",
    "    query_features = df.loc[df['product_name'] == query_name, 'combined_features'].values\n",
    "    if len(query_features) == 0:\n",
    "        return \"Medicine not found in the dataset.\"\n",
    "\n",
    "    # Vectorize the query features\n",
    "    query_vector = tfidf_vectorizer.transform(query_features)\n",
    "\n",
    "    # Get similarity scores\n",
    "    similarity_scores = cosine_similarity(query_vector, tfidf_matrix).flatten()\n",
    "\n",
    "    # Exclude the query medicine itself\n",
    "    similarity_scores[df['product_name'] == query_name] = 0.0\n",
    "\n",
    "    # Filter medicines above the threshold\n",
    "    similar_indices = [i for i, score in enumerate(similarity_scores) if score >= similarity_threshold]\n",
    "\n",
    "    # Sort by similarity and get the top N\n",
    "    similar_medicines = df.iloc[similar_indices].sort_values(by='product_name', ascending=True).head(top_n)\n",
    "\n",
    "    return similarity_scores, similar_medicines"
   ]
  },
  {
   "cell_type": "code",
   "execution_count": null,
   "metadata": {},
   "outputs": [],
   "source": [
    "query_medicine = \"Lupisulin R 100IU/ml Cartridge\"\n",
    "similarity_scores, similar_medicines = find_similar_medicines(query_medicine)\n",
    "\n",
    "# Display results\n",
    "print(f\"Similarity Scores: {similarity_scores}\")\n",
    "print(\"\\nTop Similar Medicines:\")\n",
    "for idx, row in similar_medicines.iterrows():\n",
    "    similarity_percentage = similarity_scores[df['product_name'] == row['product_name']][0] * 100\n",
    "    print(f\"{row['product_name']} - Similarity: {similarity_percentage:.2f}%\")\n",
    "    print(f\"   Description: {row['medicine_desc']}\")\n",
    "    print(f\"   Composition: {row['salt_composition']}\\n\")"
   ]
  },
  {
   "cell_type": "code",
   "execution_count": null,
   "metadata": {},
   "outputs": [],
   "source": [
    "query_medicine = \"Human Insulatard 40IU/ml Suspension for Injection\"\n",
    "similar_medicines = find_similar_medicines(query_medicine)\n",
    "print(similar_medicines)"
   ]
  }
 ],
 "metadata": {
  "language_info": {
   "name": "python"
  }
 },
 "nbformat": 4,
 "nbformat_minor": 2
}
